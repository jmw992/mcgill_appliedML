{
 "cells": [
  {
   "cell_type": "markdown",
   "metadata": {},
   "source": [
    "# Q3 Real Life Data Set\n",
    "    by Jacob Williams\n",
    "    id 260400597\n",
    "    email jacob.williams@mail.mcgill.ca\n",
    "    for Applied Machine Learning - COMP 552\n",
    "\n"
   ]
  },
  {
   "cell_type": "code",
   "execution_count": 1,
   "metadata": {
    "collapsed": true
   },
   "outputs": [],
   "source": [
    "#command to turn on autocomplete in jupyter to make my life easier\n",
    "%config IPCompleter.greedy=True "
   ]
  },
  {
   "cell_type": "markdown",
   "metadata": {
    "collapsed": true
   },
   "source": [
    "## 1.  Cleaning Data "
   ]
  },
  {
   "cell_type": "code",
   "execution_count": 2,
   "metadata": {},
   "outputs": [
    {
     "name": "stdout",
     "output_type": "stream",
     "text": [
      "(1994, 124)\n",
      "(124,)\n",
      "(1994, 124)\n"
     ]
    }
   ],
   "source": [
    "import os\n",
    "import sys\n",
    "import numpy as np\n",
    "import pandas as pd\n",
    "import random\n",
    "import matplotlib.pyplot as plt \n",
    "import matplotlib.patches as mpatches\n",
    "import pylab\n",
    "from numpy.linalg import inv\n",
    "\n",
    "TrnDf = pd.read_csv('Data\\Q3data\\q3data_all.csv', index_col=False)\n",
    "\n",
    "\n",
    "#print(TrnDf)\n",
    "#TrnDf.apply(pd.to_numeric)\n",
    "\n",
    "#categorical variables a little lazy and not developing their own binary dimensions\n",
    "TrnDf.pop('state')\n",
    "TrnDf.pop('county')\n",
    "TrnDf.pop('community')\n",
    "TrnDf.pop('communityname')\n",
    "\n",
    "\n",
    "\n",
    "def isnumber(x):\n",
    "    try:\n",
    "        float(x)\n",
    "        return True\n",
    "    except:\n",
    "        return False\n",
    "\n",
    "'''\n",
    "This function will take a \n",
    "'''\n",
    "def cleanData(df):\n",
    "    #\n",
    "    df = df[df.applymap(isnumber)]\n",
    "    df = df.replace(to_replace=False , value=np.nan)\n",
    "    \n",
    "    # handles int or string version of numbers\n",
    "    df= df.astype(dtype='float64')\n",
    "\n",
    "\n",
    "    clmMns = df.mean(axis=0)\n",
    "    clmStd = df.std(axis=0)\n",
    "\n",
    "    print(df.shape)\n",
    "\n",
    "    print(clmMns.shape)\n",
    "\n",
    "    numrows = df.shape[0]\n",
    "    \n",
    "    lostLbls = []\n",
    "    \n",
    "    #clmLbls = list(clmMeans.axes.values)\n",
    "    #print(clmLbls)\n",
    "    for clm in df:\n",
    "        if clm in clmMns:\n",
    "            avg = clmMns.loc[clm]\n",
    "            std = clmStd.loc[clm]\n",
    "            for row in range(numrows):\n",
    "                isnan = df.loc[row,clm]\n",
    "                #nan!=nan returns true in python\n",
    "                if (isnan!=isnan):\n",
    "                    df.at[row,clm]=np.random.normal(avg,std)\n",
    "\n",
    "    return df\n",
    "\n",
    "\n",
    "\n",
    "\n",
    "TrnDf = cleanData(TrnDf)\n",
    "TrnDf.to_csv('Data\\Q3data\\q3cleaned.csv', index=False)\n",
    "print(TrnDf.shape)"
   ]
  },
  {
   "cell_type": "markdown",
   "metadata": {},
   "source": [
    "## 2.  Fitting With Crossover Validation "
   ]
  },
  {
   "cell_type": "markdown",
   "metadata": {
    "collapsed": true
   },
   "source": [
    "### Preparing K-Folds files "
   ]
  },
  {
   "cell_type": "code",
   "execution_count": 3,
   "metadata": {
    "collapsed": true
   },
   "outputs": [],
   "source": [
    "'''\n",
    "Function largely helped by stack overflow below\n",
    "#https://stackoverflow.com/questions/21333832/how-to-save-pandas-groups-to-separate-files\n",
    "'''\n",
    "def groupSplitDf(df, grpClm, exprtPath):\n",
    "    #we have 10 folds listed in the data file and are requested to do 80-20 split,\n",
    "    # so we must split the files into 5 folds\n",
    "    grouped = df.groupby([grpClm])\n",
    "    \n",
    "    for grpItem, group in grouped:\n",
    "        if(grpItem%2==1):\n",
    "            fldNum = int(grpItem/2)+1\n",
    "            exprtFile =  exprtPath+str(fldNum)+'.csv'\n",
    "            cmbndDf = group\n",
    "        else:\n",
    "            cmbndDf = pd.concat([cmbndDf, group])\n",
    "            cmbndDf.to_csv(exprtFile, index=False)\n",
    "        \n",
    "\n",
    "'''\n",
    "This function will read through seperated fold files and will seperate out\n",
    "the specified fold number into test X and Y numpy matrices.  \n",
    "It will agglomerate the rest of the folds together into a training X & Y numpy\n",
    "matrix.  The Y column must be the last column in the data to function properly\n",
    "and the fold number must be specified as last characters in the file names.\n",
    "'''\n",
    "def cvldTrnMkr(fldClm, numFld, tstFld, genericFile):\n",
    "    fldFile = genericFile + str(tstFld) +'.csv'\n",
    "    \n",
    "    trnDf = pd.read_csv(fldFile, index_col=False)\n",
    "    dfEmpty = True\n",
    "    \n",
    "    for fld in range(1,numFld+1,1):\n",
    "        fldFile = genericFile + str(fld) +'.csv'\n",
    "        if (dfEmpty and fld != tstFld ):\n",
    "            dfEmpty = False\n",
    "            trnDf = pd.read_csv(fldFile, index_col=False)\n",
    "        \n",
    "        elif(fld!=tstFld):\n",
    "            trnDf = pd.concat([trnDf, pd.read_csv(fldFile, index_col=False)])\n",
    "\n",
    "    trnDf.pop(fldClm)\n",
    "    trnDf = trnDf.as_matrix()\n",
    " \n",
    "    Xtrn = trnDf[:,0:-1]\n",
    "    Ytrn = trnDf[:,-1]\n",
    "    \n",
    "    return Xtrn, Ytrn\n",
    "\n",
    "def cvldTstMkr(fldClm, numFld, tstFld, genericFile):\n",
    "    fldFile = genericFile + str(tstFld) +'.csv'\n",
    "    tstDf = pd.read_csv(fldFile, index_col=False)\n",
    "    tstDf.pop(fldClm)\n",
    "    tstDf = tstDf.as_matrix()\n",
    "\n",
    "    Xtst = tstDf[:,0:-1]\n",
    "    Ytst = tstDf[:,-1]\n",
    "    return  Xtst, Ytst\n",
    "\n",
    "def getFileHeader(file):\n",
    "    tmpDf = pd.read_csv(file,index_col=None,nrows=1)\n",
    "    tmpDf.pop('fold')\n",
    "    tmpDf.pop('ViolentCrimesPerPop')\n",
    "    hdr = list(tmpDf.columns.values)\n",
    "    hdr = ['ConstantTerm']+hdr\n",
    "    return hdr\n",
    "    \n",
    "        \n",
    "foldFlsPth = 'Data\\Q3data\\q3fold_'\n",
    "groupSplitDf(TrnDf, 'fold', foldFlsPth)"
   ]
  },
  {
   "cell_type": "markdown",
   "metadata": {
    "collapsed": true
   },
   "source": [
    "### Fitting Functions"
   ]
  },
  {
   "cell_type": "code",
   "execution_count": 22,
   "metadata": {
    "collapsed": true
   },
   "outputs": [],
   "source": [
    "#equation to calculate MSE error\n",
    "def errMSE(X, Y, W):\n",
    "    prt1 = np.subtract(Y, np.dot(X,W))\n",
    "    return np.dot(prt1.transpose(),prt1)\n",
    "\n",
    "#modified from Q1 and Q2 to be able to handle input X with multiple\n",
    "# features, adds 1 column for constant term\n",
    "def nDegExpansion(X, n):\n",
    "    #n = n #adding 1 for the constant variables\n",
    "    numrows = X.shape[0]\n",
    "    numclms = X.shape[1]\n",
    "    X_m = np.zeros((numrows, numclms+1)) #add 1 for constant term\n",
    "    cnstnt = np.ones(numrows)\n",
    "    X_m[:,0]=cnstnt\n",
    "    \n",
    "    for r in range(numrows):\n",
    "        for c in range(0,numclms):\n",
    "            for i in range(1,n+1): #add 1 for constant term\n",
    "                #print(c*n+i)\n",
    "                X_m[r,c*n+i] = X[r,c]**i\n",
    "\n",
    "    return X_m\n",
    "\n",
    "#equation to calculate MSE error\n",
    "def errMSE(X, Y, W):\n",
    "    prt1 = np.subtract(Y, np.dot(X,W))\n",
    "    return np.dot(prt1.transpose(),prt1)\n",
    "\n",
    "#takes input x, y, and empty weight matrix and fills in the W matrix\n",
    "#also prints out the predicted Y and W to csv files\n",
    "def fitModel(X, Y):\n",
    "    prt1 = inv(np.dot(X.transpose(), X))\n",
    "    prt2 = np.dot(prt1, X.transpose())\n",
    "    W = np.dot(prt2, Y)\n",
    "    return W"
   ]
  },
  {
   "cell_type": "markdown",
   "metadata": {},
   "source": [
    "### Cross Over Fitting Function "
   ]
  },
  {
   "cell_type": "code",
   "execution_count": 24,
   "metadata": {},
   "outputs": [
    {
     "name": "stdout",
     "output_type": "stream",
     "text": [
      "Training  0\n",
      "Training  1\n",
      "Training  2\n",
      "Training  3\n",
      "Training  4\n"
     ]
    },
    {
     "data": {
      "text/plain": [
       "8.3496867842102329"
      ]
     },
     "execution_count": 24,
     "metadata": {},
     "output_type": "execute_result"
    }
   ],
   "source": [
    "def crossOverFit(fldClm, numFld, genericFile, n):\n",
    "    wLst =[]\n",
    "    mse = np.zeros(numFld)\n",
    "    \n",
    "    for fld in range(0,numFld):\n",
    "        Xtrn, Ytrn  = cvldTrnMkr(fldClm, numFld, fld+1, genericFile)\n",
    "        Xtst, Ytst = cvldTstMkr(fldClm, numFld, fld+1, genericFile)\n",
    "\n",
    "        X_m_trn = nDegExpansion(Xtrn, n)\n",
    "        X_m_tst = nDegExpansion(Xtst, n)        \n",
    "\n",
    "        print(\"Training \", fld)\n",
    "        Wtrn = fitModel(X_m_trn, Ytrn, )\n",
    "        mse[fld] = errMSE(X_m_tst, Ytst, Wtrn)\n",
    "        \n",
    "        wLst.append(Wtrn)\n",
    "    \n",
    "    fldFile = genericFile + str(fld) +'.csv'\n",
    "    hdrs = getFileHeader(fldFile)\n",
    "    \n",
    "    numClms = wLst[0].shape[0]\n",
    "    numRows = len(wLst)\n",
    "    wMtrx = np.zeros((numRows, numClms))\n",
    "    for i in range(numRows):\n",
    "        wMtrx[i,:]=wLst[i]\n",
    "        \n",
    "    \n",
    "    fldFile = genericFile + 'ClmWeights.csv'\n",
    "    cmbndDf = pd.DataFrame(data=wMtrx, columns=hdrs)\n",
    "    cmbndDf.to_csv(fldFile, index=False)\n",
    "        \n",
    "        \n",
    "    return np.mean(mse)\n",
    "\n",
    "stepSize = 5e-6\n",
    "iterations = 60\n",
    "batchSize = 20\n",
    "\n",
    "crossOverFit('fold', 5, foldFlsPth, 1)"
   ]
  },
  {
   "cell_type": "markdown",
   "metadata": {
    "collapsed": true
   },
   "source": [
    "## 3  Ridge Regression and Feature Importance"
   ]
  },
  {
   "cell_type": "code",
   "execution_count": 33,
   "metadata": {},
   "outputs": [
    {
     "data": {
      "image/png": "[encoded data removed]",
      "text/plain": [
       "<matplotlib.figure.Figure at 0x2988040e2b0>"
      ]
     },
     "metadata": {},
     "output_type": "display_data"
    },
    {
     "name": "stdout",
     "output_type": "stream",
     "text": [
      "Best fit Lambda  5  Mse Error of  [8.3496867842102329, 8.0801894739812337, 8.0370673802691055, 8.019721919218922, 8.0126490375148141, 8.0107868538134728, 8.0118718421601347, 8.0147268275167338, 8.0186831449955172, 8.023338547107306, 8.0284412450819307, 8.0338290971527062, 8.0393955621364057, 8.0450696703930724, 8.0508037738106903, 8.0565658147439354, 8.0623343192890555, 8.0680950843052948, 8.0738389451550212, 8.0795602484903153]\n"
     ]
    }
   ],
   "source": [
    "def fitModelRidge(X, Y, lmda):\n",
    "    prt1 = np.dot(X.transpose(),X)\n",
    "    prt2 = np.multiply(np.identity(prt1.shape[0]), lmda)\n",
    "    prt3 = inv(np.add(prt1,prt2))\n",
    "    prt4 = np.dot(prt3,X.transpose())\n",
    "    W = np.dot(prt4, Y)\n",
    "    return W\n",
    "\n",
    "def crossOverFitRidge(fldClm, numFld, genericFile, n, lmda):\n",
    "    wLst =[]\n",
    "    mse = np.zeros(numFld)\n",
    "    \n",
    "    for fld in range(0,numFld):\n",
    "        Xtrn, Ytrn  = cvldTrnMkr(fldClm, numFld, fld+1, genericFile)\n",
    "        Xtst, Ytst = cvldTstMkr(fldClm, numFld, fld+1, genericFile)\n",
    "\n",
    "        X_m_trn = nDegExpansion(Xtrn, n)\n",
    "        X_m_tst = nDegExpansion(Xtst, n)        \n",
    "\n",
    "        Wtrn = fitModelRidge(X_m_trn,Ytrn, lmda)\n",
    "        mse[fld] = errMSE(X_m_tst, Ytst, Wtrn)\n",
    "        \n",
    "        wLst.append(Wtrn)   \n",
    "    \n",
    "    numClms = wLst[0].shape[0]\n",
    "    numRows = len(wLst)\n",
    "    wMtrx = np.zeros((numRows, numClms))\n",
    "    for i in range(numRows):\n",
    "        wMtrx[i,:]=wLst[i]\n",
    "        \n",
    "    return np.mean(mse), wMtrx\n",
    "\n",
    "def lmdaFndr(fldClm, numFld, genericFile, n, lmdaStrt, lmdaEnd, lmdDlta):\n",
    "    lmdaLst = []\n",
    "    mseLst = []\n",
    "    wLst =[] #will be a list of weight list from cross Over Fit Ridge\n",
    "    lmda = lmdaStrt\n",
    "    while lmda < lmdaEnd:\n",
    "        lmdaLst.append(lmda)\n",
    "        lmda += lmdDlta\n",
    "    \n",
    "    for lmda in lmdaLst:\n",
    "        #print(\"Training Lamda Value\", lmda)\n",
    "        mse, W = crossOverFitRidge(fldClm, numFld, genericFile, n, lmda)\n",
    "        mseLst.append(mse)\n",
    "        wLst.append(W)\n",
    "        \n",
    "        \n",
    "    #recording Feature Weight information\n",
    "    fldFile = genericFile + str(1) +'.csv'\n",
    "    hdrs = getFileHeader(fldFile)\n",
    "    \n",
    "    #graphing info used for debugging \n",
    "    plt.title('Regularization Values and Cross-Validation MSE') \n",
    "    plt.xlabel('Lambda')\n",
    "    plt.ylabel('Cross Validation MSE')\n",
    "    plt.plot(lmdaLst, mseLst, 'b')\n",
    "    \n",
    "    plt.show()\n",
    "    \n",
    "    bstFit = mseLst.index(min(mseLst))\n",
    "    print(\"Best fit Lambda \" ,bstFit ,\" Mse Error of \", mseLst[bstFit])\n",
    "    fldFile = genericFile + 'ClmLmdaWeights.csv'\n",
    "    cmbndDf = pd.DataFrame(data=wLst[bstFit], columns=hdrs)\n",
    "    cmbndDf.to_csv(fldFile, index=False)\n",
    "    \n",
    "    return wLst[bstFit]\n",
    "\n",
    "fullWeights = lmdaFndr('fold', 5, foldFlsPth, 1, 0,20, .25)"
   ]
  },
  {
   "cell_type": "markdown",
   "metadata": {},
   "source": [
    "### Fitting Reduced Features "
   ]
  },
  {
   "cell_type": "code",
   "execution_count": null,
   "metadata": {
    "collapsed": true
   },
   "outputs": [],
   "source": [
    "\n",
    "rdcdDf = pd.read_csv('Data\\Q3data\\Rdcd\\q3JacobFtrs.csv', index_col=False)\n",
    "foldFlsPth = 'Data\\Q3data\\Rdcd\\q3fold_'\n",
    "groupSplitDf(TrnDf, 'fold', foldFlsPth)\n",
    "\n",
    "\n"
   ]
  }
 ],
 "metadata": {
  "kernelspec": {
   "display_name": "Python 3",
   "language": "python",
   "name": "python3"
  },
  "language_info": {
   "codemirror_mode": {
    "name": "ipython",
    "version": 3
   },
   "file_extension": ".py",
   "mimetype": "text/x-python",
   "name": "python",
   "nbconvert_exporter": "python",
   "pygments_lexer": "ipython3",
   "version": "3.6.3"
  }
 },
 "nbformat": 4,
 "nbformat_minor": 2
}
